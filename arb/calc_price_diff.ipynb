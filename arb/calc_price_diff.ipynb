{
 "cells": [
  {
   "cell_type": "code",
   "execution_count": 6,
   "metadata": {},
   "outputs": [
    {
     "name": "stdout",
     "output_type": "stream",
     "text": [
      "Significant opportunity at time: 2024-01-05 01:48:59.999\n",
      "Significant opportunity at time: 2024-01-05 14:42:59.999\n",
      "Total number of significant opportunities: 2\n"
     ]
    }
   ],
   "source": [
    "import pandas as pd\n",
    "\n",
    "# Load the data\n",
    "df = pd.read_csv(\"trbusdt_price_comparison.csv\")\n",
    "\n",
    "# Initialize the opportunity counter\n",
    "opportunity_counter = 0\n",
    "\n",
    "# Iterate over each row in the DataFrame\n",
    "for current_index in range(len(df)):\n",
    "    # Calculate the mean of the previous 100 data points for 'Percentage Difference'\n",
    "    # If current_index is less than 100, it takes as many as available\n",
    "    start_index = max(0, current_index - 100)\n",
    "    mean_previous_100 = df['Percentage Difference'][start_index:current_index].mean()\n",
    "\n",
    "    # Current row's 'Percentage Difference'\n",
    "    current_percentage_diff = df.at[current_index, 'Percentage Difference']\n",
    "\n",
    "    # Compare the current percentage difference with the mean of the previous 100\n",
    "    if abs(current_percentage_diff - mean_previous_100) > 0.3:\n",
    "        print(f\"Significant opportunity at time: {df.at[current_index, 'Time']}\")\n",
    "        opportunity_counter += 1\n",
    "\n",
    "# Output the total number of significant opportunities\n",
    "print(\"Total number of significant opportunities:\", opportunity_counter)\n"
   ]
  }
 ],
 "metadata": {
  "kernelspec": {
   "display_name": "Python 3",
   "language": "python",
   "name": "python3"
  },
  "language_info": {
   "codemirror_mode": {
    "name": "ipython",
    "version": 3
   },
   "file_extension": ".py",
   "mimetype": "text/x-python",
   "name": "python",
   "nbconvert_exporter": "python",
   "pygments_lexer": "ipython3",
   "version": "3.10.13"
  }
 },
 "nbformat": 4,
 "nbformat_minor": 2
}
